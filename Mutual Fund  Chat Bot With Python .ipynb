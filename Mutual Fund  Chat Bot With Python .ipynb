{
 "cells": [
  {
   "cell_type": "markdown",
   "id": "068bf7bd",
   "metadata": {},
   "source": [
    "Creating a mutual fund-oriented chatbot in Python requires a combination of natural language processing (NLP) techniques, a well-structured handling of mutual fund related queries, and possibly integration with a financial data API for real-time information. Below is a simplified version that utilizes basic Python structure and logic. This chatbot will be able to handle a few common user queries regarding mutual funds."
   ]
  },
  {
   "cell_type": "code",
   "execution_count": null,
   "id": "f3ee69eb",
   "metadata": {},
   "outputs": [
    {
     "name": "stdout",
     "output_type": "stream",
     "text": [
      "Hi there! What do you want to know about mutual funds?\n"
     ]
    }
   ],
   "source": [
    "import random\n",
    "\n",
    "class MutualFundChatBot:\n",
    "    def __init__(self):\n",
    "        self.greetings = [\"Hello! How can I assist you today?\", \"Hi there! What do you want to know about mutual funds?\", \"Greetings! I'm here to help you with mutual fund queries.\"]\n",
    "        self.fund_types = [\"Equity Fund\", \"Debt Fund\", \"Hybrid Fund\", \"Index Fund\", \"Sector Fund\"]\n",
    "        self.questions = {\n",
    "            \"What are mutual funds?\": \"Mutual funds are investment vehicles that pool money from many investors to purchase securities like stocks and bonds.\",\n",
    "            \"What types of mutual funds are there?\": f\"The common types of mutual funds are: {', '.join(self.fund_types)}.\",\n",
    "            \"How to invest in mutual funds?\": \"You can invest in mutual funds through a financial advisor, directly through the fund house, or through online platforms.\"\n",
    "        }\n",
    "        self.farewells = [\"Thank you for chatting! Have a great day!\", \"Goodbye! Hope I helped you with your queries.\", \"See you next time!\"]\n",
    "\n",
    "    def greet(self):\n",
    "        return random.choice(self.greetings)\n",
    "\n",
    "    def farewell(self):\n",
    "        return random.choice(self.farewells)\n",
    "\n",
    "    def handle_query(self, query):\n",
    "        query = query.strip().capitalize()\n",
    "        return self.questions.get(query, \"I'm sorry, I don't have information on that. Can you ask something else?\")\n",
    "\n",
    "    def chat(self):\n",
    "        print(self.greet())\n",
    "        while True:\n",
    "            user_input = input(\"You: \")\n",
    "            if user_input.lower() in (\"exit\", \"quit\"):\n",
    "                print(self.farewell())\n",
    "                break\n",
    "            response = self.handle_query(user_input)\n",
    "            print(f\"Bot: {response}\")\n",
    "\n",
    "if __name__ == \"__main__\":\n",
    "    bot = MutualFundChatBot()\n",
    "    bot.chat()"
   ]
  },
  {
   "cell_type": "markdown",
   "id": "e4b32b32",
   "metadata": {},
   "source": [
    "# How the Chatbot Works:\n",
    "Initialization:\n",
    "\n",
    "The bot initializes with predefined greetings, a list of mutual fund types, a dictionary of common questions and responses, and farewells.\n",
    "Greeting and Farewells:\n",
    "\n",
    "The bot greets the user upon starting. It will respond with a random greeting each time. Similarly, it says farewell with a random message when the user decides to exit.\n",
    "Handling Queries:\n",
    "\n",
    "The bot listens for user input and responds to predefined questions. For any query that isn’t recognized, it provides a fallback message.\n",
    "Possible Outputs:\n",
    "User Input: \"What are mutual funds?\"\n",
    "\n",
    "Bot Response: \"Mutual funds are investment vehicles that pool money from many investors to purchase securities like stocks and bonds.\"\n",
    "User Input: \"What types of mutual funds are there?\"\n",
    "\n",
    "Bot Response: \"The common types of mutual funds are: Equity Fund, Debt Fund, Hybrid Fund, Index Fund, Sector Fund.\"\n",
    "User Input: \"How to invest in mutual funds?\"\n",
    "\n",
    "Bot Response: \"You can invest in mutual funds through a financial advisor, directly through the fund house, or through online platforms.\"\n",
    "User Input: \"Tell me about SIP.\"\n",
    "\n",
    "Bot Response: \"I'm sorry, I don't have information on that. Can you ask something else?\"\n",
    "User Input: \"exit\"\n",
    "\n",
    "Bot Response: \"Goodbye! Hope I helped you with your queries.\"\n",
    "Future Improvements:\n",
    "Natural Language Processing: To understand more varied queries.\n",
    "Integration with Financial APIs: For real-time data on mutual funds, NAVs, etc.\n",
    "User Profiles: To provide personalized recommendations based on user preferences.\n",
    "Logging and Analytics: To analyze user interactions for better performance and training.\n",
    "This basic framework can be expanded and improved based on specific user needs and capabilities required for a full mutual fund chatbot"
   ]
  },
  {
   "cell_type": "code",
   "execution_count": null,
   "id": "ff834911",
   "metadata": {},
   "outputs": [],
   "source": []
  }
 ],
 "metadata": {
  "kernelspec": {
   "display_name": "Python 3 (ipykernel)",
   "language": "python",
   "name": "python3"
  },
  "language_info": {
   "codemirror_mode": {
    "name": "ipython",
    "version": 3
   },
   "file_extension": ".py",
   "mimetype": "text/x-python",
   "name": "python",
   "nbconvert_exporter": "python",
   "pygments_lexer": "ipython3",
   "version": "3.11.4"
  }
 },
 "nbformat": 4,
 "nbformat_minor": 5
}
